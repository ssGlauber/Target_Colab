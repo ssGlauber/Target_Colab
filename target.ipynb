{
  "cells": [
    {
      "cell_type": "markdown",
      "metadata": {
        "id": "view-in-github",
        "colab_type": "text"
      },
      "source": [
        "<a href=\"https://colab.research.google.com/github/ssGlauber/Target_Colab/blob/main/target.ipynb\" target=\"_parent\"><img src=\"https://colab.research.google.com/assets/colab-badge.svg\" alt=\"Open In Colab\"/></a>"
      ]
    },
    {
      "cell_type": "markdown",
      "metadata": {
        "id": "wtcQKF7BvTaK"
      },
      "source": [
        "Questão 01"
      ]
    },
    {
      "cell_type": "code",
      "execution_count": 39,
      "metadata": {
        "id": "L658zTSYu8B0",
        "colab": {
          "base_uri": "https://localhost:8080/"
        },
        "outputId": "c559c166-eabe-4493-c3f1-64ebe7d43f49"
      },
      "outputs": [
        {
          "output_type": "stream",
          "name": "stdout",
          "text": [
            "1\n",
            "3\n",
            "6\n",
            "10\n",
            "15\n",
            "21\n",
            "28\n",
            "36\n",
            "45\n",
            "55\n",
            "66\n",
            "78\n",
            "91\n",
            "\n",
            "O valor da variável SOMA é: 91\n"
          ]
        }
      ],
      "source": [
        "# QUESTÃO 01\n",
        "#\n",
        "i = 13\n",
        "k = 0\n",
        "soma = 0\n",
        "while (k < i) :\n",
        "  k = k + 1\n",
        "  soma = soma + k\n",
        "  print(soma)\n",
        "\n",
        "print(\"\\nO valor da variável SOMA é: \" + str(soma))"
      ]
    },
    {
      "cell_type": "markdown",
      "metadata": {
        "id": "oF75OTsYuVs7"
      },
      "source": [
        "Questao 02"
      ]
    },
    {
      "cell_type": "code",
      "execution_count": 35,
      "metadata": {
        "id": "-LQgOgAO5WbN",
        "colab": {
          "base_uri": "https://localhost:8080/"
        },
        "outputId": "2b939c3d-c8a8-4660-bac6-4a8f45707ba2"
      },
      "outputs": [
        {
          "output_type": "stream",
          "name": "stdout",
          "text": [
            "Que termo deseja encontrar: 5\n",
            "0\n",
            "1\n",
            "1\n",
            "2\n",
            "3\n",
            "5\n",
            "Encontrado!\n"
          ]
        }
      ],
      "source": [
        "#QUESTÃO 02\n",
        "#\n",
        "\n",
        "n = int(input(\"Que termo deseja encontrar: \"))\n",
        "ultimo=0\n",
        "penultimo=1\n",
        "if (n==0):\n",
        "    print(\"0\")\n",
        "    print(\"Encontrado!\")\n",
        "else:\n",
        "    print(\"0\")  \n",
        "    count=0\n",
        "    while count <= n:\n",
        "        termo = ultimo + penultimo\n",
        "        penultimo = ultimo\n",
        "        ultimo = termo\n",
        "        count += 1\n",
        "        print(termo)\n",
        "        if (termo==n):\n",
        "          print(\"Encontrado!\")\n",
        "          break\n",
        "        elif (termo>n):\n",
        "          print(\"não encontrado!\")\n",
        "          break      \n",
        "    "
      ]
    },
    {
      "cell_type": "markdown",
      "metadata": {
        "id": "zZosELMQQF5Q"
      },
      "source": [
        "Questão 03"
      ]
    },
    {
      "cell_type": "code",
      "execution_count": 34,
      "metadata": {
        "id": "U_WcQle29hwV"
      },
      "outputs": [],
      "source": [
        "# FUNCTION PARA QUESTÃO 03 E 04.\n",
        "#\n",
        "def formata_Moeda(texto):\n",
        "    texto_formatado = f\"R$ {texto:_.2f}\"\n",
        "    texto_formatado = texto_formatado.replace(\".\",\",\").replace(\"_\",\".\")\n",
        "    return (texto_formatado)"
      ]
    },
    {
      "cell_type": "code",
      "execution_count": 33,
      "metadata": {
        "colab": {
          "base_uri": "https://localhost:8080/",
          "height": 577
        },
        "id": "jh_uU7B1ogvt",
        "outputId": "a7e53292-7f93-4bde-e545-6c95b0112616"
      },
      "outputs": [
        {
          "output_type": "stream",
          "name": "stdout",
          "text": [
            "\n",
            "O menor valor de faturamento ocorrido em um dia do mês foi:\n",
            "    Dia      Valor\n",
            "13   14  R$ 373,78\n",
            "\n",
            "O maior valor de faturamento ocorrido em um dia do mês foi:\n",
            "    Dia         Valor\n",
            "15   16  R$ 48.924,24\n",
            "\n",
            "A média é: R$ 20.865,37\n",
            "\n",
            "10 dias no mês o valor de faturamento diário foi superior à média mensal\n"
          ]
        },
        {
          "output_type": "execute_result",
          "data": {
            "text/plain": [
              "    Dia         Valor\n",
              "0     1  R$ 22.174,17\n",
              "1     2  R$ 24.537,67\n",
              "2     3  R$ 26.139,61\n",
              "5     6  R$ 26.742,66\n",
              "7     8  R$ 42.889,23\n",
              "8     9  R$ 46.251,17\n",
              "15   16  R$ 48.924,24\n",
              "19   20  R$ 35.240,18\n",
              "20   21  R$ 43.829,17\n",
              "26   27  R$ 25.681,83"
            ],
            "text/html": [
              "\n",
              "  <div id=\"df-c59cfd30-9b32-4b0d-aa2c-5d5ddca4cab6\">\n",
              "    <div class=\"colab-df-container\">\n",
              "      <div>\n",
              "<style scoped>\n",
              "    .dataframe tbody tr th:only-of-type {\n",
              "        vertical-align: middle;\n",
              "    }\n",
              "\n",
              "    .dataframe tbody tr th {\n",
              "        vertical-align: top;\n",
              "    }\n",
              "\n",
              "    .dataframe thead th {\n",
              "        text-align: right;\n",
              "    }\n",
              "</style>\n",
              "<table border=\"1\" class=\"dataframe\">\n",
              "  <thead>\n",
              "    <tr style=\"text-align: right;\">\n",
              "      <th></th>\n",
              "      <th>Dia</th>\n",
              "      <th>Valor</th>\n",
              "    </tr>\n",
              "  </thead>\n",
              "  <tbody>\n",
              "    <tr>\n",
              "      <th>0</th>\n",
              "      <td>1</td>\n",
              "      <td>R$ 22.174,17</td>\n",
              "    </tr>\n",
              "    <tr>\n",
              "      <th>1</th>\n",
              "      <td>2</td>\n",
              "      <td>R$ 24.537,67</td>\n",
              "    </tr>\n",
              "    <tr>\n",
              "      <th>2</th>\n",
              "      <td>3</td>\n",
              "      <td>R$ 26.139,61</td>\n",
              "    </tr>\n",
              "    <tr>\n",
              "      <th>5</th>\n",
              "      <td>6</td>\n",
              "      <td>R$ 26.742,66</td>\n",
              "    </tr>\n",
              "    <tr>\n",
              "      <th>7</th>\n",
              "      <td>8</td>\n",
              "      <td>R$ 42.889,23</td>\n",
              "    </tr>\n",
              "    <tr>\n",
              "      <th>8</th>\n",
              "      <td>9</td>\n",
              "      <td>R$ 46.251,17</td>\n",
              "    </tr>\n",
              "    <tr>\n",
              "      <th>15</th>\n",
              "      <td>16</td>\n",
              "      <td>R$ 48.924,24</td>\n",
              "    </tr>\n",
              "    <tr>\n",
              "      <th>19</th>\n",
              "      <td>20</td>\n",
              "      <td>R$ 35.240,18</td>\n",
              "    </tr>\n",
              "    <tr>\n",
              "      <th>20</th>\n",
              "      <td>21</td>\n",
              "      <td>R$ 43.829,17</td>\n",
              "    </tr>\n",
              "    <tr>\n",
              "      <th>26</th>\n",
              "      <td>27</td>\n",
              "      <td>R$ 25.681,83</td>\n",
              "    </tr>\n",
              "  </tbody>\n",
              "</table>\n",
              "</div>\n",
              "      <button class=\"colab-df-convert\" onclick=\"convertToInteractive('df-c59cfd30-9b32-4b0d-aa2c-5d5ddca4cab6')\"\n",
              "              title=\"Convert this dataframe to an interactive table.\"\n",
              "              style=\"display:none;\">\n",
              "        \n",
              "  <svg xmlns=\"http://www.w3.org/2000/svg\" height=\"24px\"viewBox=\"0 0 24 24\"\n",
              "       width=\"24px\">\n",
              "    <path d=\"M0 0h24v24H0V0z\" fill=\"none\"/>\n",
              "    <path d=\"M18.56 5.44l.94 2.06.94-2.06 2.06-.94-2.06-.94-.94-2.06-.94 2.06-2.06.94zm-11 1L8.5 8.5l.94-2.06 2.06-.94-2.06-.94L8.5 2.5l-.94 2.06-2.06.94zm10 10l.94 2.06.94-2.06 2.06-.94-2.06-.94-.94-2.06-.94 2.06-2.06.94z\"/><path d=\"M17.41 7.96l-1.37-1.37c-.4-.4-.92-.59-1.43-.59-.52 0-1.04.2-1.43.59L10.3 9.45l-7.72 7.72c-.78.78-.78 2.05 0 2.83L4 21.41c.39.39.9.59 1.41.59.51 0 1.02-.2 1.41-.59l7.78-7.78 2.81-2.81c.8-.78.8-2.07 0-2.86zM5.41 20L4 18.59l7.72-7.72 1.47 1.35L5.41 20z\"/>\n",
              "  </svg>\n",
              "      </button>\n",
              "      \n",
              "  <style>\n",
              "    .colab-df-container {\n",
              "      display:flex;\n",
              "      flex-wrap:wrap;\n",
              "      gap: 12px;\n",
              "    }\n",
              "\n",
              "    .colab-df-convert {\n",
              "      background-color: #E8F0FE;\n",
              "      border: none;\n",
              "      border-radius: 50%;\n",
              "      cursor: pointer;\n",
              "      display: none;\n",
              "      fill: #1967D2;\n",
              "      height: 32px;\n",
              "      padding: 0 0 0 0;\n",
              "      width: 32px;\n",
              "    }\n",
              "\n",
              "    .colab-df-convert:hover {\n",
              "      background-color: #E2EBFA;\n",
              "      box-shadow: 0px 1px 2px rgba(60, 64, 67, 0.3), 0px 1px 3px 1px rgba(60, 64, 67, 0.15);\n",
              "      fill: #174EA6;\n",
              "    }\n",
              "\n",
              "    [theme=dark] .colab-df-convert {\n",
              "      background-color: #3B4455;\n",
              "      fill: #D2E3FC;\n",
              "    }\n",
              "\n",
              "    [theme=dark] .colab-df-convert:hover {\n",
              "      background-color: #434B5C;\n",
              "      box-shadow: 0px 1px 3px 1px rgba(0, 0, 0, 0.15);\n",
              "      filter: drop-shadow(0px 1px 2px rgba(0, 0, 0, 0.3));\n",
              "      fill: #FFFFFF;\n",
              "    }\n",
              "  </style>\n",
              "\n",
              "      <script>\n",
              "        const buttonEl =\n",
              "          document.querySelector('#df-c59cfd30-9b32-4b0d-aa2c-5d5ddca4cab6 button.colab-df-convert');\n",
              "        buttonEl.style.display =\n",
              "          google.colab.kernel.accessAllowed ? 'block' : 'none';\n",
              "\n",
              "        async function convertToInteractive(key) {\n",
              "          const element = document.querySelector('#df-c59cfd30-9b32-4b0d-aa2c-5d5ddca4cab6');\n",
              "          const dataTable =\n",
              "            await google.colab.kernel.invokeFunction('convertToInteractive',\n",
              "                                                     [key], {});\n",
              "          if (!dataTable) return;\n",
              "\n",
              "          const docLinkHtml = 'Like what you see? Visit the ' +\n",
              "            '<a target=\"_blank\" href=https://colab.research.google.com/notebooks/data_table.ipynb>data table notebook</a>'\n",
              "            + ' to learn more about interactive tables.';\n",
              "          element.innerHTML = '';\n",
              "          dataTable['output_type'] = 'display_data';\n",
              "          await google.colab.output.renderOutput(dataTable, element);\n",
              "          const docLink = document.createElement('div');\n",
              "          docLink.innerHTML = docLinkHtml;\n",
              "          element.appendChild(docLink);\n",
              "        }\n",
              "      </script>\n",
              "    </div>\n",
              "  </div>\n",
              "  "
            ]
          },
          "metadata": {},
          "execution_count": 33
        }
      ],
      "source": [
        "# QUESTÃO 03\n",
        "#\n",
        "\n",
        "import pandas as pd\n",
        "import numpy as np\n",
        "\n",
        "dt = pd.read_json(\"dados.json\")\n",
        "df1 = pd.DataFrame(dt)\n",
        "\n",
        "# Define DataFrame somente onde valor é maior que zero.\n",
        "df2 = df1[(df1['valor'] > 0)]\n",
        "\n",
        "# Menor valor de faturamento ocorrido no mês.\n",
        "minimo = df2[(df2['valor']==df2.min()['valor'])]\n",
        "txt_minimo = formata_Moeda(minimo.min()['valor'])\n",
        "minimo.iat[0,1] = txt_minimo\n",
        "minimo.columns = ['Dia', 'Valor']\n",
        "print(\"\\nO menor valor de faturamento ocorrido em um dia do mês foi:\")\n",
        "print(minimo)\n",
        "\n",
        "# Maior valor de faturamento ocorrido no mês.\n",
        "maximo = df2[(df2['valor']==df2.max()['valor'])]\n",
        "txt_maximo = formata_Moeda(maximo.max()['valor'])\n",
        "maximo.iat[0,1] = txt_maximo\n",
        "maximo.columns = ['Dia', 'Valor']\n",
        "print(\"\\nO maior valor de faturamento ocorrido em um dia do mês foi:\")\n",
        "print(maximo)\n",
        "\n",
        "# Média de faturamento para valores maiores que zero.\n",
        "mean_df2 = df2['valor'].mean()\n",
        "media = formata_Moeda(mean_df2)\n",
        "print(\"\\nA média é: \" + media)\n",
        "\n",
        "# Conta o numero de dias em que o faturamento foi maior do que a média.\n",
        "count_dias = df2.loc[df2['valor'] > mean_df2]['dia'].count()\n",
        "print(\"\\n\" + str(count_dias) + \" dias no mês o valor de faturamento diário foi superior à média mensal\")\n",
        "\n",
        "# Define DataFrame com os dias e valores onde valor foi maior que a média.\n",
        "df3 = df2.loc[df2['valor'] > mean_df2].copy()\n",
        "df3['valor'] = df3['valor'].apply(formata_Moeda)\n",
        "df3.columns = ['Dia', 'Valor']\n",
        "df3"
      ]
    },
    {
      "cell_type": "markdown",
      "metadata": {
        "id": "n9sUSRp2QOkK"
      },
      "source": [
        "Questão 04"
      ]
    },
    {
      "cell_type": "code",
      "execution_count": 32,
      "metadata": {
        "colab": {
          "base_uri": "https://localhost:8080/",
          "height": 349
        },
        "id": "-Tc-ccsQQLqy",
        "outputId": "9ccb54ec-3b32-4d9e-ce44-c5b4290edf56"
      },
      "outputs": [
        {
          "output_type": "stream",
          "name": "stdout",
          "text": [
            "   Estado  Faturamento\n",
            "a      SP    67,836.43\n",
            "b      RJ    36,678.66\n",
            "c      MG    29,229.88\n",
            "d      ES    27,165.48\n",
            "e  Outros    19,849.53\n",
            "\n",
            "Total do Faturamento R$:180,759.98\n"
          ]
        },
        {
          "output_type": "execute_result",
          "data": {
            "text/plain": [
              "   Estado   Faturamento     %\n",
              "a      SP  R$ 67.836,43 37.53\n",
              "b      RJ  R$ 36.678,66 20.29\n",
              "c      MG  R$ 29.229,88 16.17\n",
              "d      ES  R$ 27.165,48 15.03\n",
              "e  Outros  R$ 19.849,53 10.98"
            ],
            "text/html": [
              "\n",
              "  <div id=\"df-0f0a1211-afff-4c51-818c-f11737291916\">\n",
              "    <div class=\"colab-df-container\">\n",
              "      <div>\n",
              "<style scoped>\n",
              "    .dataframe tbody tr th:only-of-type {\n",
              "        vertical-align: middle;\n",
              "    }\n",
              "\n",
              "    .dataframe tbody tr th {\n",
              "        vertical-align: top;\n",
              "    }\n",
              "\n",
              "    .dataframe thead th {\n",
              "        text-align: right;\n",
              "    }\n",
              "</style>\n",
              "<table border=\"1\" class=\"dataframe\">\n",
              "  <thead>\n",
              "    <tr style=\"text-align: right;\">\n",
              "      <th></th>\n",
              "      <th>Estado</th>\n",
              "      <th>Faturamento</th>\n",
              "      <th>%</th>\n",
              "    </tr>\n",
              "  </thead>\n",
              "  <tbody>\n",
              "    <tr>\n",
              "      <th>a</th>\n",
              "      <td>SP</td>\n",
              "      <td>R$ 67.836,43</td>\n",
              "      <td>37.53</td>\n",
              "    </tr>\n",
              "    <tr>\n",
              "      <th>b</th>\n",
              "      <td>RJ</td>\n",
              "      <td>R$ 36.678,66</td>\n",
              "      <td>20.29</td>\n",
              "    </tr>\n",
              "    <tr>\n",
              "      <th>c</th>\n",
              "      <td>MG</td>\n",
              "      <td>R$ 29.229,88</td>\n",
              "      <td>16.17</td>\n",
              "    </tr>\n",
              "    <tr>\n",
              "      <th>d</th>\n",
              "      <td>ES</td>\n",
              "      <td>R$ 27.165,48</td>\n",
              "      <td>15.03</td>\n",
              "    </tr>\n",
              "    <tr>\n",
              "      <th>e</th>\n",
              "      <td>Outros</td>\n",
              "      <td>R$ 19.849,53</td>\n",
              "      <td>10.98</td>\n",
              "    </tr>\n",
              "  </tbody>\n",
              "</table>\n",
              "</div>\n",
              "      <button class=\"colab-df-convert\" onclick=\"convertToInteractive('df-0f0a1211-afff-4c51-818c-f11737291916')\"\n",
              "              title=\"Convert this dataframe to an interactive table.\"\n",
              "              style=\"display:none;\">\n",
              "        \n",
              "  <svg xmlns=\"http://www.w3.org/2000/svg\" height=\"24px\"viewBox=\"0 0 24 24\"\n",
              "       width=\"24px\">\n",
              "    <path d=\"M0 0h24v24H0V0z\" fill=\"none\"/>\n",
              "    <path d=\"M18.56 5.44l.94 2.06.94-2.06 2.06-.94-2.06-.94-.94-2.06-.94 2.06-2.06.94zm-11 1L8.5 8.5l.94-2.06 2.06-.94-2.06-.94L8.5 2.5l-.94 2.06-2.06.94zm10 10l.94 2.06.94-2.06 2.06-.94-2.06-.94-.94-2.06-.94 2.06-2.06.94z\"/><path d=\"M17.41 7.96l-1.37-1.37c-.4-.4-.92-.59-1.43-.59-.52 0-1.04.2-1.43.59L10.3 9.45l-7.72 7.72c-.78.78-.78 2.05 0 2.83L4 21.41c.39.39.9.59 1.41.59.51 0 1.02-.2 1.41-.59l7.78-7.78 2.81-2.81c.8-.78.8-2.07 0-2.86zM5.41 20L4 18.59l7.72-7.72 1.47 1.35L5.41 20z\"/>\n",
              "  </svg>\n",
              "      </button>\n",
              "      \n",
              "  <style>\n",
              "    .colab-df-container {\n",
              "      display:flex;\n",
              "      flex-wrap:wrap;\n",
              "      gap: 12px;\n",
              "    }\n",
              "\n",
              "    .colab-df-convert {\n",
              "      background-color: #E8F0FE;\n",
              "      border: none;\n",
              "      border-radius: 50%;\n",
              "      cursor: pointer;\n",
              "      display: none;\n",
              "      fill: #1967D2;\n",
              "      height: 32px;\n",
              "      padding: 0 0 0 0;\n",
              "      width: 32px;\n",
              "    }\n",
              "\n",
              "    .colab-df-convert:hover {\n",
              "      background-color: #E2EBFA;\n",
              "      box-shadow: 0px 1px 2px rgba(60, 64, 67, 0.3), 0px 1px 3px 1px rgba(60, 64, 67, 0.15);\n",
              "      fill: #174EA6;\n",
              "    }\n",
              "\n",
              "    [theme=dark] .colab-df-convert {\n",
              "      background-color: #3B4455;\n",
              "      fill: #D2E3FC;\n",
              "    }\n",
              "\n",
              "    [theme=dark] .colab-df-convert:hover {\n",
              "      background-color: #434B5C;\n",
              "      box-shadow: 0px 1px 3px 1px rgba(0, 0, 0, 0.15);\n",
              "      filter: drop-shadow(0px 1px 2px rgba(0, 0, 0, 0.3));\n",
              "      fill: #FFFFFF;\n",
              "    }\n",
              "  </style>\n",
              "\n",
              "      <script>\n",
              "        const buttonEl =\n",
              "          document.querySelector('#df-0f0a1211-afff-4c51-818c-f11737291916 button.colab-df-convert');\n",
              "        buttonEl.style.display =\n",
              "          google.colab.kernel.accessAllowed ? 'block' : 'none';\n",
              "\n",
              "        async function convertToInteractive(key) {\n",
              "          const element = document.querySelector('#df-0f0a1211-afff-4c51-818c-f11737291916');\n",
              "          const dataTable =\n",
              "            await google.colab.kernel.invokeFunction('convertToInteractive',\n",
              "                                                     [key], {});\n",
              "          if (!dataTable) return;\n",
              "\n",
              "          const docLinkHtml = 'Like what you see? Visit the ' +\n",
              "            '<a target=\"_blank\" href=https://colab.research.google.com/notebooks/data_table.ipynb>data table notebook</a>'\n",
              "            + ' to learn more about interactive tables.';\n",
              "          element.innerHTML = '';\n",
              "          dataTable['output_type'] = 'display_data';\n",
              "          await google.colab.output.renderOutput(dataTable, element);\n",
              "          const docLink = document.createElement('div');\n",
              "          docLink.innerHTML = docLinkHtml;\n",
              "          element.appendChild(docLink);\n",
              "        }\n",
              "      </script>\n",
              "    </div>\n",
              "  </div>\n",
              "  "
            ]
          },
          "metadata": {},
          "execution_count": 32
        }
      ],
      "source": [
        "# QUESTÃO 04\n",
        "#\n",
        "\n",
        "import pandas as pd\n",
        "import numpy as np\n",
        "\n",
        "dados = [\n",
        "          (\"SP\", 67836.43),\n",
        "          (\"RJ\", 36678.66),\n",
        "          (\"MG\", 29229.88),\n",
        "          (\"ES\", 27165.48),\n",
        "          (\"Outros\", 19849.53)\n",
        "       ]\n",
        "  \n",
        "# Criando DataFrame\n",
        "df = pd.DataFrame(dados, index = ['a', 'b', 'c', 'd', 'e'], columns = ['Estado', 'Faturamento'])\n",
        "print(df)\n",
        "total = df['Faturamento'].sum()\n",
        "print (f'\\nTotal do Faturamento R$:{total:,.2f}')\n",
        "df['%'] = (df['Faturamento'] / total) * 100\n",
        "\n",
        "df['Faturamento'] = df['Faturamento'].apply(formata_Moeda)\n",
        "#pd.options.display.float_format = '{:,.2f}'.format \n",
        "df"
      ]
    },
    {
      "cell_type": "markdown",
      "source": [
        "Questão 05"
      ],
      "metadata": {
        "id": "BdKHSMkWT6Qx"
      }
    },
    {
      "cell_type": "code",
      "source": [
        "# QUESTÃO 05\n",
        "#\n",
        "\n",
        "palavra = input(\"Digite a palavra: \")\n",
        "# Primeira maneira: Usando operadores de String do Python. \n",
        "print(\"\\nResultado 1: \"+palavra[::-1])\n",
        "\n",
        "# Outra maneira: Usando loop While.\n",
        "tamanho = len(palavra)\n",
        "p=1\n",
        "inverso=\"\"\n",
        "while p <= tamanho:\n",
        "  inverso = inverso + palavra[-p]\n",
        "  p=p+1\n",
        "\n",
        "print(\"\\nResultado 2: \" + inverso)"
      ],
      "metadata": {
        "colab": {
          "base_uri": "https://localhost:8080/"
        },
        "id": "7n4ByqA5T9pR",
        "outputId": "6e7b2fb4-4864-472d-ef98-d0261129a14d"
      },
      "execution_count": 31,
      "outputs": [
        {
          "output_type": "stream",
          "name": "stdout",
          "text": [
            "Digite a palavra: TESTE\n",
            "\n",
            "Resultado 1: ETSET\n",
            "\n",
            "Resultado 2: ETSET\n"
          ]
        }
      ]
    }
  ],
  "metadata": {
    "colab": {
      "provenance": [],
      "authorship_tag": "ABX9TyOwWhAAjjiXJbaBWgej458c",
      "include_colab_link": true
    },
    "kernelspec": {
      "display_name": "Python 3",
      "name": "python3"
    },
    "language_info": {
      "name": "python"
    }
  },
  "nbformat": 4,
  "nbformat_minor": 0
}